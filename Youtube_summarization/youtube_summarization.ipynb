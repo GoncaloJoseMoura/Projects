{
  "nbformat": 4,
  "nbformat_minor": 0,
  "metadata": {
    "colab": {
      "provenance": [],
      "collapsed_sections": [
        "Wt0zhx34UGTb",
        "d6XsNnpETSa2"
      ],
      "authorship_tag": "ABX9TyPsr0gB1uotIQMDLuUUtsif",
      "include_colab_link": true
    },
    "kernelspec": {
      "name": "python3",
      "display_name": "Python 3"
    },
    "language_info": {
      "name": "python"
    }
  },
  "cells": [
    {
      "cell_type": "markdown",
      "metadata": {
        "id": "view-in-github",
        "colab_type": "text"
      },
      "source": [
        "<a href=\"https://colab.research.google.com/github/GoncaloJoseMoura/Projects/blob/main/youtube_summarization.ipynb\" target=\"_parent\"><img src=\"https://colab.research.google.com/assets/colab-badge.svg\" alt=\"Open In Colab\"/></a>"
      ]
    },
    {
      "cell_type": "markdown",
      "source": [
        "# Imports/ Downloads"
      ],
      "metadata": {
        "id": "Wt0zhx34UGTb"
      }
    },
    {
      "cell_type": "code",
      "source": [
        "!pip install youtube_transcript_api\n",
        "!pip install deepmultilingualpunctuation"
      ],
      "metadata": {
        "colab": {
          "base_uri": "https://localhost:8080/"
        },
        "id": "GypKV0YhLYO5",
        "outputId": "3345c6a9-3af3-4682-d56f-fa92a07863bc"
      },
      "execution_count": null,
      "outputs": [
        {
          "output_type": "stream",
          "name": "stdout",
          "text": [
            "Collecting youtube_transcript_api\n",
            "  Downloading youtube_transcript_api-0.6.1-py3-none-any.whl (24 kB)\n",
            "Requirement already satisfied: requests in /usr/local/lib/python3.10/dist-packages (from youtube_transcript_api) (2.31.0)\n",
            "Requirement already satisfied: charset-normalizer<4,>=2 in /usr/local/lib/python3.10/dist-packages (from requests->youtube_transcript_api) (3.3.0)\n",
            "Requirement already satisfied: idna<4,>=2.5 in /usr/local/lib/python3.10/dist-packages (from requests->youtube_transcript_api) (3.4)\n",
            "Requirement already satisfied: urllib3<3,>=1.21.1 in /usr/local/lib/python3.10/dist-packages (from requests->youtube_transcript_api) (2.0.6)\n",
            "Requirement already satisfied: certifi>=2017.4.17 in /usr/local/lib/python3.10/dist-packages (from requests->youtube_transcript_api) (2023.7.22)\n",
            "Installing collected packages: youtube_transcript_api\n",
            "Successfully installed youtube_transcript_api-0.6.1\n",
            "Requirement already satisfied: deepmultilingualpunctuation in /usr/local/lib/python3.10/dist-packages (1.0.1)\n",
            "Requirement already satisfied: torch>=1.8.1 in /usr/local/lib/python3.10/dist-packages (from deepmultilingualpunctuation) (2.0.1+cu118)\n",
            "Requirement already satisfied: transformers in /usr/local/lib/python3.10/dist-packages (from deepmultilingualpunctuation) (4.34.0)\n",
            "Requirement already satisfied: filelock in /usr/local/lib/python3.10/dist-packages (from torch>=1.8.1->deepmultilingualpunctuation) (3.12.4)\n",
            "Requirement already satisfied: typing-extensions in /usr/local/lib/python3.10/dist-packages (from torch>=1.8.1->deepmultilingualpunctuation) (4.5.0)\n",
            "Requirement already satisfied: sympy in /usr/local/lib/python3.10/dist-packages (from torch>=1.8.1->deepmultilingualpunctuation) (1.12)\n",
            "Requirement already satisfied: networkx in /usr/local/lib/python3.10/dist-packages (from torch>=1.8.1->deepmultilingualpunctuation) (3.1)\n",
            "Requirement already satisfied: jinja2 in /usr/local/lib/python3.10/dist-packages (from torch>=1.8.1->deepmultilingualpunctuation) (3.1.2)\n",
            "Requirement already satisfied: triton==2.0.0 in /usr/local/lib/python3.10/dist-packages (from torch>=1.8.1->deepmultilingualpunctuation) (2.0.0)\n",
            "Requirement already satisfied: cmake in /usr/local/lib/python3.10/dist-packages (from triton==2.0.0->torch>=1.8.1->deepmultilingualpunctuation) (3.27.6)\n",
            "Requirement already satisfied: lit in /usr/local/lib/python3.10/dist-packages (from triton==2.0.0->torch>=1.8.1->deepmultilingualpunctuation) (17.0.2)\n",
            "Requirement already satisfied: huggingface-hub<1.0,>=0.16.4 in /usr/local/lib/python3.10/dist-packages (from transformers->deepmultilingualpunctuation) (0.17.3)\n",
            "Requirement already satisfied: numpy>=1.17 in /usr/local/lib/python3.10/dist-packages (from transformers->deepmultilingualpunctuation) (1.23.5)\n",
            "Requirement already satisfied: packaging>=20.0 in /usr/local/lib/python3.10/dist-packages (from transformers->deepmultilingualpunctuation) (23.2)\n",
            "Requirement already satisfied: pyyaml>=5.1 in /usr/local/lib/python3.10/dist-packages (from transformers->deepmultilingualpunctuation) (6.0.1)\n",
            "Requirement already satisfied: regex!=2019.12.17 in /usr/local/lib/python3.10/dist-packages (from transformers->deepmultilingualpunctuation) (2023.6.3)\n",
            "Requirement already satisfied: requests in /usr/local/lib/python3.10/dist-packages (from transformers->deepmultilingualpunctuation) (2.31.0)\n",
            "Requirement already satisfied: tokenizers<0.15,>=0.14 in /usr/local/lib/python3.10/dist-packages (from transformers->deepmultilingualpunctuation) (0.14.1)\n",
            "Requirement already satisfied: safetensors>=0.3.1 in /usr/local/lib/python3.10/dist-packages (from transformers->deepmultilingualpunctuation) (0.4.0)\n",
            "Requirement already satisfied: tqdm>=4.27 in /usr/local/lib/python3.10/dist-packages (from transformers->deepmultilingualpunctuation) (4.66.1)\n",
            "Requirement already satisfied: fsspec in /usr/local/lib/python3.10/dist-packages (from huggingface-hub<1.0,>=0.16.4->transformers->deepmultilingualpunctuation) (2023.6.0)\n",
            "Requirement already satisfied: MarkupSafe>=2.0 in /usr/local/lib/python3.10/dist-packages (from jinja2->torch>=1.8.1->deepmultilingualpunctuation) (2.1.3)\n",
            "Requirement already satisfied: charset-normalizer<4,>=2 in /usr/local/lib/python3.10/dist-packages (from requests->transformers->deepmultilingualpunctuation) (3.3.0)\n",
            "Requirement already satisfied: idna<4,>=2.5 in /usr/local/lib/python3.10/dist-packages (from requests->transformers->deepmultilingualpunctuation) (3.4)\n",
            "Requirement already satisfied: urllib3<3,>=1.21.1 in /usr/local/lib/python3.10/dist-packages (from requests->transformers->deepmultilingualpunctuation) (2.0.6)\n",
            "Requirement already satisfied: certifi>=2017.4.17 in /usr/local/lib/python3.10/dist-packages (from requests->transformers->deepmultilingualpunctuation) (2023.7.22)\n",
            "Requirement already satisfied: mpmath>=0.19 in /usr/local/lib/python3.10/dist-packages (from sympy->torch>=1.8.1->deepmultilingualpunctuation) (1.3.0)\n"
          ]
        }
      ]
    },
    {
      "cell_type": "code",
      "source": [
        "import pandas as pd\n",
        "import numpy as np\n",
        "\n",
        "import requests\n",
        "from youtube_transcript_api import YouTubeTranscriptApi\n",
        "\n",
        "import spacy\n",
        "from spacy.lang.en.stop_words import STOP_WORDS\n",
        "from string import punctuation\n",
        "from collections import defaultdict\n",
        "\n",
        "from deepmultilingualpunctuation import PunctuationModel\n"
      ],
      "metadata": {
        "id": "8wshyAIhTWZ1"
      },
      "execution_count": null,
      "outputs": []
    },
    {
      "cell_type": "markdown",
      "source": [
        "# Extracting Text"
      ],
      "metadata": {
        "id": "d6XsNnpETSa2"
      }
    },
    {
      "cell_type": "code",
      "execution_count": null,
      "metadata": {
        "colab": {
          "base_uri": "https://localhost:8080/",
          "height": 120
        },
        "id": "Aq8ctpRrLKcB",
        "outputId": "b1316451-fa44-4973-fce5-af43d9c05892"
      },
      "outputs": [
        {
          "output_type": "execute_result",
          "data": {
            "text/plain": [
              "\" a new day a new python release and my word what a release it is python 3.12 is packed full of improvements and new features so i've scoured around and picked down the most important things you need to know i normally aim for 5 minutes and unders shoot when i've done these before but i imagine i'll probably be making up for that this time as there is a lot to talk about so i suppose let's not waste any time let's start with the big one shall we python speed or supposed like thereof has always been at the center of arguments made by its detractors though many steps have been taken lately to improve the situation python 3.11 bought in optimizations to interpret a startup and of course a specialized adaptive interpreter but 3.12 is going a step further in laying the groundwork for proper multicore support this has been a long time coming quite literally actually in fact support for multiple interpreters the crux of this endeavor has been around since 1997 i was before i was born when it was originally implemented all interpreters in the same process needed to share a single global state protected by the global interpreter lock or the gill for short the gil greatly improved python single core performance at a time when multi-core computations were much less of a thing though are since going to draw the eye of many due to the devastating effect it has on these new fangled multicore operations it's only now that a solution has been devised that allows us to keep the single core gains of the gill while also providing true multi-core support a per interpreter gill having a separate state and therefore a separate gill for every interpreter means that interpreters don't have to wait for a global state to be unlocked before accessing it some data will still be stored in the global state though this data will exclusively consist anything that isn't subject to race conditions such as immutable objects and objects guaranteed to only be modified in the main threat memory is still a concern you know a python api interface for creating and managing interpreters won't be worth this until python 3.13 though are capi interfaces available now for those that want to get stuck in the idea is that the new interpreters module will sit alongside threading a singer multiprocessing aiming to be useful in ways the others aren't i'll be making a video in the coming weeks about the plans for python 3.13 though so you have to watch that if you want to know more wink wink the per interpreter gill is not not the only performance improvement python 3.2 brings far from it in fact the tokenized module is now up to 64% faster due to changes i'll be discussing later the re. sub and sub end functions are now between two and three times faster for replacement strings containing group references and is instance checks against runtime checkable protocols and now anything up to 20 times faster 20 times the asyn co module has also been at receiving ed of a number of major speed ups including the introduction of eask factories and a c implementation of the current task function which provide anything to five and six times speed ups respectively when combined with other new optimizations the asyn module could run anything up to 75% faster sweet syntactic formalization of fst strings is another major change in 3.12 which lifts some of the more useless restrictions imposed by the ll1 parer this parer was replaced by a new peg parer in python 3.9 which added a level of consistency to passing and significantly reduced maintenance costs in the process f strings have not been able to take advantage of this p until now and now they have a clearly established formal grammar other python implementations such as piie can take advantage of the increased consistency these changes are also responsible for the tokenized module speed up and we're back to speed ups again mind you i'm not complaining on to timing improvements now and probably the biggest story here is one i've managed to miss completely until now a new type parameter syntax the specifying of type parameters in python has felt bolted on their was not mine especially when it comes to generic or covariant class decorations the new specification provides a formalized syntax for these classes as well as for functions and typ ies which provides a much cleaner interface for defining type parameters the syntax also contains support for varia adic types protocols and constraint types an override decorator has also been introduced which tells type checkers that decorated method is specifically designed to override a method in the base class rather than function as a standalone thing this in turn will allow type checkers to warn you if refactors in base classes such as renaming or deleting of methods are likely to break functionality in child classes many other popular languages including c++ and typescript already have similar mechanisms and the functionality has actually existed as a third party library for some time this change just brings it all into the standard python ecosystem type dat is get another update this time related to precise quags typing there isn't actually anything new going on here as the unpack type central to this was introduced last time around however the type has been cleverly reused to provide a mechanism to accurately type in expected keyword arguments this can additionally be used in conjunction with a not required type also added in 3.11 to represent quags that don't need to be provided at all before we get into some very important an deprecations and removals there's just enough time to play our new quiz double [music] [applause] standards here are the rules i'll read out a question about something that's new will chang in a standard library module and you tell me which module i'm talking about ready okay question one which module is getting a new batched function that's right it's itals the function will be able to accept an iterable and split it into batches of a given length neat all right question two which module is getting improved windows support right again it's os the list drives list volumes and list mounts functions are being added and a stat and lstat functions are getting updated to be more accurate mega okay question three which module is getting new walk functionality as well as improved glob support wow you're on a roll it's path lib path and pure path objects are now able to be subclassed swish okay question number four which modules are getting new command line interfaces you're unstoppable it's sq light 3 and bizly uuid cuz why not okay okay qui and down it's the final question which module will now automatically select the best child watcher curve ball it's a sinko in fact that's one of the optimizations i talked about earlier how about that and with that we come to the end of our first and only installment of double standards if you got all five questions correct let me know in the comments and don't lie or i will come to your house thanks for [applause] playing wow that was interesting anyway uh deprecations and removals there's actually quite a few important ones to go over the distd tals module is gone and neither setup tools nor ensure p will be installed in virtual environments by default anymore the idea behind all that is that you should use the import li module instead especially as its predecessor the imp module is also being removed this release additionally w string attributes are being removed from unic code objects reducing the size of string objects by at least 8 bytes and support for loads of legacy web browsers is being removed from the web browser module including firefox 35 and netscape navigator come on guys i already died 15 years ago you got to give me some time as far as the applications go support for extracting tar file archives v best specifying a filter argument will be removed in python 3.14 as a reaction to recently onar security concerns data will become the new default value from then and utc based functions like utc now will be removed from the datetime library you'll need to switch to using time zone aware objects exclusively but a removal version for this hasn't been set so you still have plenty of time wow that was a lot we even managed to fit a quiz in there python 3.12 has really shaked up to be one hell of a release with so many cool improvements and new features i can't wait to properly dig into it let me know in the comments below what you're most excited for in this release and subscribe if you want to be the first to see more detailed videos on specific features in 3.12 as well as the video i'm making covering plans for python 3.13 all coming in the next few weeks see [music] you\""
            ],
            "application/vnd.google.colaboratory.intrinsic+json": {
              "type": "string"
            }
          },
          "metadata": {},
          "execution_count": 9
        }
      ],
      "source": [
        "link = 'https://www.youtube.com/watch?v=zwqKtv5y8Bk'\n",
        "\n",
        "text = ''\n",
        "for item in YouTubeTranscriptApi.get_transcript(link.split('=')[-1]):\n",
        "    text += ' ' + item['text'].lower().strip()\n",
        "\n",
        "text"
      ]
    },
    {
      "cell_type": "markdown",
      "source": [
        "# Restauring Punctuation"
      ],
      "metadata": {
        "id": "H7chtzd4TFZh"
      }
    },
    {
      "cell_type": "code",
      "source": [
        "from deepmultilingualpunctuation import PunctuationModel\n",
        "\n",
        "model = PunctuationModel(model=\"oliverguhr/fullstop-punctuation-multilingual-sonar-base\")\n",
        "text_punctuation = model.restore_punctuation(text)"
      ],
      "metadata": {
        "colab": {
          "base_uri": "https://localhost:8080/"
        },
        "id": "fYgU09O8wQZQ",
        "outputId": "ad488351-9957-45b2-b293-42d34f519bff"
      },
      "execution_count": null,
      "outputs": [
        {
          "output_type": "stream",
          "name": "stderr",
          "text": [
            "/usr/local/lib/python3.10/dist-packages/transformers/pipelines/token_classification.py:169: UserWarning: `grouped_entities` is deprecated and will be removed in version v5.0.0, defaulted to `aggregation_strategy=\"none\"` instead.\n",
            "  warnings.warn(\n"
          ]
        }
      ]
    },
    {
      "cell_type": "markdown",
      "source": [
        "# Summarizing Text"
      ],
      "metadata": {
        "id": "yk6PpCEOTKyV"
      }
    },
    {
      "cell_type": "code",
      "source": [
        "nlp = spacy.load('en_core_web_sm')\n",
        "\n",
        "stopwords = list(STOP_WORDS)\n",
        "doc = nlp(text_punctuation) # applied tokenization\n",
        "punctuation = punctuation + '\\n' # + '‘' + '’' + ' '\n",
        "\n",
        "word_freq = defaultdict(int)\n",
        "\n",
        "for word in doc:\n",
        "    if word.text.lower() not in stopwords and word.text.lower() not in punctuation:\n",
        "          word_freq[word.text] += 1"
      ],
      "metadata": {
        "id": "3ImKcNvPL-ry"
      },
      "execution_count": null,
      "outputs": []
    },
    {
      "cell_type": "code",
      "source": [
        "sent_tokens = [sent for sent in doc.sents]"
      ],
      "metadata": {
        "id": "QKYBUdGMMEHA"
      },
      "execution_count": null,
      "outputs": []
    },
    {
      "cell_type": "code",
      "source": [
        "sent_score = defaultdict(int)\n",
        "\n",
        "for sent in sent_tokens:\n",
        "    for word in sent:\n",
        "        if word.text.lower() in word_freq.keys():\n",
        "            sent_score[sent] += word_freq[word.text.lower()]"
      ],
      "metadata": {
        "id": "Lf6TI-6cMMZc"
      },
      "execution_count": null,
      "outputs": []
    },
    {
      "cell_type": "code",
      "source": [
        "from heapq import nlargest\n",
        "\n",
        "perc_to_keep =  0.5\n",
        "\n",
        "select_length = int(len(sent_score) * perc_to_keep)\n",
        "select_length"
      ],
      "metadata": {
        "colab": {
          "base_uri": "https://localhost:8080/"
        },
        "id": "WPvQqUfgO_C8",
        "outputId": "f13e69c7-82a9-41b8-f16d-bb9441fa46b4"
      },
      "execution_count": null,
      "outputs": [
        {
          "output_type": "execute_result",
          "data": {
            "text/plain": [
              "47"
            ]
          },
          "metadata": {},
          "execution_count": 20
        }
      ]
    },
    {
      "cell_type": "code",
      "source": [
        "data= []\n",
        "for key, value in sent_score.items():\n",
        "    data.append([key.text, value])\n",
        "\n",
        "# cutting what is most important with ordering, this is now possible since dictionaries are ordered in python 3.7\n",
        "summarized_text = ' '.join(pd.DataFrame(data).sort_values(1,ascending=False)[0:select_length].sort_index()[0].to_list())"
      ],
      "metadata": {
        "id": "ksSoA6C1MPNi"
      },
      "execution_count": null,
      "outputs": []
    },
    {
      "cell_type": "code",
      "source": [
        "len(text_punctuation) # original text"
      ],
      "metadata": {
        "colab": {
          "base_uri": "https://localhost:8080/"
        },
        "id": "UhAPZOg5MXC7",
        "outputId": "d728b199-15a9-48ff-dd70-5d9d78957bbc"
      },
      "execution_count": null,
      "outputs": [
        {
          "output_type": "execute_result",
          "data": {
            "text/plain": [
              "8912"
            ]
          },
          "metadata": {},
          "execution_count": 22
        }
      ]
    },
    {
      "cell_type": "code",
      "source": [
        "text_punctuation"
      ],
      "metadata": {
        "colab": {
          "base_uri": "https://localhost:8080/",
          "height": 885
        },
        "id": "pHjPLTBYMewf",
        "outputId": "40d391e4-5fe2-46ec-b965-de910eca2fb7"
      },
      "execution_count": null,
      "outputs": [
        {
          "output_type": "execute_result",
          "data": {
            "text/plain": [
              "\"a new day, a new python release and my word, what a release it is. python 3.12 is packed full of improvements and new features, so i've scoured around and picked down the most important things you need to know. i normally aim for 5 minutes and unders shoot when i've done these before, but i imagine i'll probably be making up for that this time, as there is a lot to talk about. so i suppose let's not waste any time. let's start with the big one, shall we? python speed, or supposed like thereof, has always been at the center of arguments made by its detractors, though many steps have been taken lately to improve the situation. python 3.11 bought in optimizations to interpret a startup and, of course, a specialized adaptive interpreter. but 3.12 is going a step further in laying the groundwork for proper multicore support. this has been a long time coming, quite literally, actually, in fact, support for multiple interpreters. the crux of this endeavor has been around since 1997. i was before i was born, when it was originally implemented. all interpreters in the same process needed to share a single global state protected by the global interpreter lock or the gill, for short, the gil greatly improved python single core performance at a time when multi-core computations were much less of a thing, though, are since going to draw the eye of many due to the devastating effect it has on these new fangled multicore operations. it's only now that a solution has been devised that allows us to keep the single core gains of the gill while also providing true multi-core support. a per interpreter gill having a separate state and therefore a separate gill for every interpreter, means that interpreters don't have to wait for a global state to be unlocked before accessing it. some data will still be stored in the global state, though this data will exclusively consist. anything that isn't subject to race conditions, such as immutable objects and objects guaranteed to only be modified in the main threat. memory is still a concern. you know, a python api interface for creating and managing interpreters won't be worth this. until python 3.13, though, are capi interfaces available now for those that want to get stuck in? the idea is that the new interpreters module will sit alongside threading a singer multiprocessing, aiming to be useful in ways the others aren't. i'll be making a video in the coming weeks about the plans for python 3.13, though, so you have to watch that if you want to know more. wink: wink. the per interpreter gill is not not the only performance improvement python 3.2 brings. far from it. in fact, the tokenized module is now up to 64% faster due to changes i'll be discussing later. the re sub and sub end functions are now between two and three times faster for replacement strings containing group references and is instance checks against runtime checkable protocols and now anything up to 20 times faster- 20 times. the asyn co module has also been at receiving ed of a number of major speed ups, including the introduction of eask factories and a c implementation of the current task function, which provide anything to five and six times speed ups respectively. when combined with other new optimizations, the asyn module could run anything up to 75% faster. sweet syntactic formalization of fst strings is another major change in 3.12, which lifts some of the more useless restrictions imposed by the ll1 parer. this parer was replaced by a new peg parer in python 3.9, which added a level of consistency to passing and significantly reduced maintenance costs in the process. f strings have not been able to take advantage of this p until now, and now they have a clearly established formal grammar. other python implementations, such as piie, can take advantage of the increased consistency. these changes are also responsible for the tokenized module speed up and we're back to speed ups again. mind you, i'm not complaining on to timing improvements now, and probably the biggest story here is one i've managed to miss completely until now: a new type parameter syntax. the specifying of type parameters in python has felt bolted on. their was not mine, especially when it comes to generic or covariant class decorations. the new specification provides a formalized syntax for these classes, as well as for functions and typ ies, which provides a much cleaner interface for defining type parameters. the syntax also contains support for varia, adic types, protocols and constraint types. an override decorator has also been introduced, which tells type checkers that decorated method is specifically designed to override a method in the base class rather than function as a standalone thing. this in turn will allow type checkers to warn you if refactors in base classes, such as renaming or deleting of methods, are likely to break functionality in child classes. many other popular languages, including c++ and typescript, already have similar mechanisms, and the functionality has actually existed as a third party library for some time. this change just brings it all into the standard python ecosystem type. dat is, get another update, this time related to precise quags typing. there isn't actually anything new going on here as the unpack type central to this was introduced last time around. however, the type has been cleverly reused to provide a mechanism to accurately type in expected keyword arguments. this can additionally be used in conjunction with a not required type also added in 3.11 to represent quags that don't need to be provided at all before we get into some very important an deprecations and removals. there's just enough time to play our new quiz double [music] [applause] standards. here are the rules. i'll read out a question about something that's new will chang in a standard library module and you tell me which module i'm talking about. ready, okay. question one: which module is getting a new batched function? that's right. it's itals. the function will be able to accept an iterable and split it into batches of a given length. neat, all right. question two: which module is getting improved windows support? right again, it's os. the list drives, list volumes and list mounts functions are being added and a stat and lstat functions are getting updated to be more accurate. mega okay. question three: which module is getting new walk functionality as well as improved glob support? wow, you're on a roll. it's path. lib path and pure path objects are now able to be subclassed. swish, okay. question number four: which modules are getting new command line interfaces? you're unstoppable. it's sq light 3 and bizly uuid cuz. why not? okay, okay, qui and down. it's the final question: which module will now automatically select the best child watcher curve ball? it's a sinko, in fact, that's one of the optimizations i talked about earlier. how about that? and with that we come to the end of our first and only installment of double standards. if you got all five questions correct, let me know in the comments and don't lie, or i will come to your house. thanks for [applause] playing. wow, that was interesting anyway. uh, deprecations and removals. there's actually quite a few important ones to go over. the distd tals module is gone and neither setup tools nor ensure p will be installed in virtual environments by default anymore. the idea behind all that is that you should use the import li module instead, especially as its predecessor. the imp module is also being removed this release. additionally, w string attributes are being removed from unic code objects, reducing the size of string objects by at least 8 bytes. and support for loads of legacy web browsers is being removed from the web browser module, including firefox 35 and netscape navigator. come on, guys, i already died 15 years ago. you got to give me some time. as far as the applications go, support for extracting tar file archives- v best specifying a filter argument- will be removed in python 3.14 as a reaction to recently onar security concerns. data will become the new default value from then and utc based functions like utc now will be removed from the datetime library. you'll need to switch to using time zone aware objects exclusively, but a removal version for this hasn't been set, so you still have plenty of time. wow, that was a lot. we even managed to fit a quiz in there. python 3.12 has really shaked up to be one hell of a release with so many cool improvements and new features. i can't wait to properly dig into it. let me know in the comments below what you're most excited for in this release and subscribe if you want to be the first to see more detailed videos on specific features in 3.12, as well as the video i'm making covering plans for python 3.13, all coming in the next few weeks. see [music] you.\""
            ],
            "application/vnd.google.colaboratory.intrinsic+json": {
              "type": "string"
            }
          },
          "metadata": {},
          "execution_count": 23
        }
      ]
    },
    {
      "cell_type": "code",
      "source": [
        "len(summarized_text) # summarized text"
      ],
      "metadata": {
        "colab": {
          "base_uri": "https://localhost:8080/"
        },
        "id": "r1T6NpjGMVdY",
        "outputId": "704dcab9-5e53-4489-f436-814680d3cb0a"
      },
      "execution_count": null,
      "outputs": [
        {
          "output_type": "execute_result",
          "data": {
            "text/plain": [
              "6558"
            ]
          },
          "metadata": {},
          "execution_count": 24
        }
      ]
    },
    {
      "cell_type": "code",
      "source": [
        "summarized_text"
      ],
      "metadata": {
        "colab": {
          "base_uri": "https://localhost:8080/",
          "height": 664
        },
        "id": "pvA_Itu8MlmQ",
        "outputId": "4e812b76-7ad6-40cb-a53e-2286690f394a"
      },
      "execution_count": null,
      "outputs": [
        {
          "output_type": "execute_result",
          "data": {
            "text/plain": [
              "\"a new day, a new python release and my word, what a release it is. python 3.12 is packed full of improvements and new features, so i've scoured around and picked down the most important things you need to know. i normally aim for 5 minutes and unders shoot when i've done these before, but i imagine i'll probably be making up for that this time, as there is a lot to talk about. python speed, or supposed like thereof, has always been at the center of arguments made by its detractors, though many steps have been taken lately to improve the situation. python 3.11 bought in optimizations to interpret a startup and, of course, a specialized adaptive interpreter. this has been a long time coming, quite literally, actually, in fact, support for multiple interpreters. all interpreters in the same process needed to share a single global state protected by the global interpreter lock or the gill, for short, the gil greatly improved python single core performance at a time when multi-core computations were much less of a thing, though, are since going to draw the eye of many due to the devastating effect it has on these new fangled multicore operations. it's only now that a solution has been devised that allows us to keep the single core gains of the gill while also providing true multi-core support. a per interpreter gill having a separate state and therefore a separate gill for every interpreter, means that interpreters don't have to wait for a global state to be unlocked before accessing it. you know, a python api interface for creating and managing interpreters won't be worth this. until python 3.13, though, are capi interfaces available now for those that want to get stuck in? the idea is that the new interpreters module will sit alongside threading a singer multiprocessing, aiming to be useful in ways the others aren't. i'll be making a video in the coming weeks about the plans for python 3.13, though, so you have to watch that if you want to know more. the per interpreter gill is not not the only performance improvement python 3.2 brings. in fact, the tokenized module is now up to 64% faster due to changes i'll be discussing later. the re sub and sub end functions are now between two and three times faster for replacement strings containing group references and is instance checks against runtime checkable protocols and now anything up to 20 times faster- 20 times. the asyn co module has also been at receiving ed of a number of major speed ups, including the introduction of eask factories and a c implementation of the current task function, which provide anything to five and six times speed ups respectively. when combined with other new optimizations, the asyn module could run anything up to 75% faster. this parer was replaced by a new peg parer in python 3.9, which added a level of consistency to passing and significantly reduced maintenance costs in the process. these changes are also responsible for the tokenized module speed up and we're back to speed ups again. mind you, i'm not complaining on to timing improvements now, and probably the biggest story here is one i've managed to miss completely until now: a new type parameter syntax. the specifying of type parameters in python has felt bolted on. the new specification provides a formalized syntax for these classes, as well as for functions and typ ies, which provides a much cleaner interface for defining type parameters. an override decorator has also been introduced, which tells type checkers that decorated method is specifically designed to override a method in the base class rather than function as a standalone thing. this in turn will allow type checkers to warn you if refactors in base classes, such as renaming or deleting of methods, are likely to break functionality in child classes. many other popular languages, including c++ and typescript, already have similar mechanisms, and the functionality has actually existed as a third party library for some time. this change just brings it all into the standard python ecosystem type. there isn't actually anything new going on here as the unpack type central to this was introduced last time around. however, the type has been cleverly reused to provide a mechanism to accurately type in expected keyword arguments. this can additionally be used in conjunction with a not required type also added in 3.11 to represent quags that don't need to be provided at all before we get into some very important an deprecations and removals. there's just enough time to play our new quiz double [music] i'll read out a question about something that's new will chang in a standard library module and you tell me which module i'm talking about. question one: which module is getting a new batched function? question two: which module is getting improved windows support? the list drives, list volumes and list mounts functions are being added and a stat and lstat functions are getting updated to be more accurate. question three: which module is getting new walk functionality as well as improved glob support? question number four: which modules are getting new command line interfaces? it's the final question: which module will now automatically select the best child watcher curve ball? the distd tals module is gone and neither setup tools nor ensure p will be installed in virtual environments by default anymore. the imp module is also being removed this release. additionally, w string attributes are being removed from unic code objects, reducing the size of string objects by at least 8 bytes. and support for loads of legacy web browsers is being removed from the web browser module, including firefox 35 and netscape navigator. as far as the applications go, support for extracting tar file archives- v best specifying a filter argument- will be removed in python 3.14 as a reaction to recently onar security concerns. data will become the new default value from then and utc based functions like utc now will be removed from the datetime library. you'll need to switch to using time zone aware objects exclusively, but a removal version for this hasn't been set, so you still have plenty of time. python 3.12 has really shaked up to be one hell of a release with so many cool improvements and new features. let me know in the comments below what you're most excited for in this release and subscribe if you want to be the first to see more detailed videos on specific features in 3.12, as well as the video i'm making covering plans for python 3.13, all coming in the next few weeks.\""
            ],
            "application/vnd.google.colaboratory.intrinsic+json": {
              "type": "string"
            }
          },
          "metadata": {},
          "execution_count": 25
        }
      ]
    },
    {
      "cell_type": "code",
      "source": [],
      "metadata": {
        "id": "McDMNwto53lh"
      },
      "execution_count": null,
      "outputs": []
    }
  ]
}